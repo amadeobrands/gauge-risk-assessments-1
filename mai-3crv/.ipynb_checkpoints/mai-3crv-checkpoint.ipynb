{
 "cells": [
  {
   "cell_type": "markdown",
   "id": "652f4ac7-7867-4cbc-9e35-dfbb77f8f8e6",
   "metadata": {},
   "source": [
    "---\n",
    "Useful links\n",
    "---\n",
    "\n",
    "1. [MAI Finance Homepage](https://www.mai.finance/)\n",
    "2. [MAI Finance Docs](https://docs.mai.finance/)\n",
    "3. [Unofficial docs (community-run](https://qidao-qimps.gitbook.io/mai-finance-tutorials/)\n",
    "4. [Twitter](https://twitter.com/0xLaoZi)\n",
    "5. [Discord](https://discord.gg/FVBeuryQfR)\n",
    "6. [Telegram](https://t.co/ttG5c1cxfZ?amp=1)\n",
    "7. [Medium](https://0xlaozi.medium.com/)\n",
    "8. [Github](https://github.com/0xlaozi)\n",
    "9. [Youtube](https://www.youtube.com/c/LaoZiQiDao)\n",
    "10. [Explorer](https://polygonscan.com/)\n",
    "11. [Gateway to Polygon](https://asterisk.events/site/qidao-fireside-chat/live-stream)"
   ]
  },
  {
   "cell_type": "markdown",
   "id": "41af4c3c-c83c-4f1e-9b8a-1f01be8c010f",
   "metadata": {},
   "source": [
    "---\n",
    "PRELIMINARY FINDINGS! SUBJECT TO CHANGE AS MORE INFORMATION COMES IN!\n",
    "---"
   ]
  },
  {
   "cell_type": "markdown",
   "id": "77209550-fe69-40f2-b2be-d35c36ccc30a",
   "metadata": {
    "jp-MarkdownHeadingCollapsed": true,
    "tags": []
   },
   "source": [
    "---\n",
    "MAI as an asset\n",
    "---\n",
    "\n",
    "\n",
    "---\n",
    "Reviewer's findings\n",
    "---\n",
    "\n"
   ]
  },
  {
   "cell_type": "markdown",
   "id": "77bad7b5-adc7-4d42-81c6-8bdfa7f1aa6d",
   "metadata": {
    "pycharm": {
     "name": "#%% md\n"
    }
   },
   "source": [
    "---\n",
    "Conclusion\n",
    "---\n",
    "\n",
    "\n",
    "---\n",
    "Does the asset meet minimum requirements for a gauge?\n",
    "---\n",
    "1. _Is it possible for a single entity to rug its users?_\n",
    "   \n",
    "2. _If the team vanishes, can the project continue?_\n",
    "   \n",
    "3. Do audits reveal any concerning signs?\n",
    "   "
   ]
  }
 ],
 "metadata": {
  "kernelspec": {
   "display_name": "Python 3 (ipykernel)",
   "language": "python",
   "name": "python3"
  },
  "language_info": {
   "codemirror_mode": {
    "name": "ipython",
    "version": 3
   },
   "file_extension": ".py",
   "mimetype": "text/x-python",
   "name": "python",
   "nbconvert_exporter": "python",
   "pygments_lexer": "ipython3",
   "version": "3.9.7"
  }
 },
 "nbformat": 4,
 "nbformat_minor": 5
}
