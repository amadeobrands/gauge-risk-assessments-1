{
 "cells": [
  {
   "cell_type": "code",
   "execution_count": null,
   "id": "56c5c7b8-5bb7-4780-9179-1bf4b86cfaaf",
   "metadata": {},
   "outputs": [],
   "source": [
    "---\n",
    "Useful links\n",
    "---\n",
    "\n",
    "1. [RAMP-Defi Homepage](rampdefi.com)\n",
    "2. [RAMP-DEFI Docs](https://docs.rampdefi.com/ramp-defi/)\n",
    "3. [RAMP-DEFI Github](https://docs.rampdefi.com/ramp-defi/)\n",
    "4. [Most recent Public audits](https://github.com/RAMP-DEFI/RAMP-Public-Audits)\n",
    "5. [RAMP Smart Contracts](https://github.com/RAMP-DEFI/RAMP-Contracts): the first commit was 14 hours before the start of this review process.\n",
    "6. [rUSD-BUSD PancakeSwap v2 pool (Binance Smart Chain) pair explorer](https://www.dextools.io/app/bsc/pair-explorer/0x59fac9e98479fc9979ae2a0c7422af50bcbb9b26)\n",
    "7. [rUSD-USDC Quickswap pool (Polygon) pair explorer](https://www.dextools.io/app/polygon/pair-explorer/0x5ef8747d1dc4839e92283794a10d448357973ac0)\n",
    "8. [RAMP-DEFI's plans on participating in the Curve Wars](https://medium.com/rampdefi/ethereum-growth-roadmap-curve-wars-and-protocol-owned-liquidity-8210859b007f)"
   ]
  },
  {
   "cell_type": "code",
   "execution_count": null,
   "id": "867117bd-9d1e-41ff-8b4c-336822ded555",
   "metadata": {},
   "outputs": [],
   "source": []
  }
 ],
 "metadata": {
  "kernelspec": {
   "display_name": "Python 3 (ipykernel)",
   "language": "python",
   "name": "python3"
  },
  "language_info": {
   "codemirror_mode": {
    "name": "ipython",
    "version": 3
   },
   "file_extension": ".py",
   "mimetype": "text/x-python",
   "name": "python",
   "nbconvert_exporter": "python",
   "pygments_lexer": "ipython3",
   "version": "3.9.7"
  }
 },
 "nbformat": 4,
 "nbformat_minor": 5
}
