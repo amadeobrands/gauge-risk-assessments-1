{
 "cells": [
  {
   "cell_type": "markdown",
   "source": [
    "!jt -t oceans16"
   ],
   "metadata": {
    "collapsed": false
   }
  },
  {
   "cell_type": "code",
   "execution_count": 1,
   "outputs": [],
   "source": [
    "import sys\n",
    "sys.path.append(\"../\")\n",
    "from utils.network_utils import connect_eth_alchemy\n",
    "connect_eth_alchemy()\n",
    "from utils.contract_utils import init_contract"
   ],
   "metadata": {
    "collapsed": false,
    "pycharm": {
     "name": "#%%\n"
    }
   }
  },
  {
   "cell_type": "markdown",
   "source": [
    "---\n",
    "Useful links\n",
    "---\n",
    "\n",
    "1. [RAI Protocol Analytics (maintained by RAI themselves)](https://stats.reflexer.finance/)\n",
    "2. [RAI Dune Analytics](https://dune.xyz/HggqX/Reflexer-RAI)\n",
    "3. [ETHUSD Chainlink Oracle](https://etherscan.io/address/0xb825e25856bD98b3f2FAF2aEb6Cb8742B38C4025)\n",
    "4. [RAIETH Chainlink Oracle](https://etherscan.io/address/0x4ad7B025127e89263242aB68F0f9c4E5C033B489)\n",
    "5. [Curve RAI-3CRV Pool](https://curve.fi/rai)"
   ],
   "metadata": {
    "collapsed": false
   }
  },
  {
   "cell_type": "markdown",
   "source": [],
   "metadata": {
    "collapsed": false
   }
  },
  {
   "cell_type": "markdown",
   "source": [
    "Historic RAIUSD and ETHUSD prices:\n",
    "![](plots/historic_raiusd_ethusd.png)"
   ],
   "metadata": {
    "collapsed": false
   }
  },
  {
   "cell_type": "markdown",
   "source": [
    "The data was derived from the oracles mentioned earlier. RAI has held its value over different market regimes. Zooming into the May 2021 crash\n",
    "\n",
    "![](plots/2021_05_crash_raiusd_ethusd.png)\n",
    "\n",
    "The value of RAI has remained fairly stable in extreme market regimes (volatility and price action)."
   ],
   "metadata": {
    "collapsed": false
   }
  },
  {
   "cell_type": "markdown",
   "source": [
    "---\n",
    "Rai Redemption Price\n",
    "---\n",
    "\n",
    "There are two prices attached to RAI:\n",
    " 1. Market Price (arbitraged across markets): this is determined via a Chainlink oracle with the following sources of information\n",
    "    - [Uniswap v2](https://etherscan.io/address/0x8aE720a71622e824F576b4A8C03031066548A3B1)\n",
    "    - [Uniswap v3](https://etherscan.io/address/0xcb0c5d9d92f4f2f80cce7aa271a1e148c226e19d)\n",
    "    - [Coinbase RAIUSD](https://www.coinbase.com/price/rai)\n",
    "    - _Pending Curve RAI-3CRV prices_.\n",
    " 2. The redemption price is determined by the redemption rate: when positive increases the redemption price of RAI (re-values), when negative it reduces the redemption price of RAI (de-values).\n",
    "\n",
    "One can safely say that the redemption price is the platform's 'desired price' of RAI. At any given time, there exists a delta between the redemption price and the market price. This changes over time: at any given point, the redemption rate either encourages minting more RAI or encourages settling debts. This re-pricing of the Ethereum Bond incentivises balancing market and redemption prices of RAI:\n",
    "\n",
    "    - RAI Market Price > RAI Redemption Price, Redemption Rate is Negative (protocol devalues RAI): You can now take on more debt and sell RAI in the open market for DAI or other assets. This brings the market price down.\n",
    "\n",
    "    - RAI Market Price < RAI Redemption Price, Redemption Rate is Positive (protocol revalues RAI): Buy RAI in the open market, pay back debt cheaper. This brings RAI market prices up.\n"
   ],
   "metadata": {
    "collapsed": false
   }
  },
  {
   "cell_type": "markdown",
   "source": [
    "Historic Redemption Prices:\n",
    "![](plots/redemption_price_vs_chainlink_price_RAI.png)"
   ],
   "metadata": {
    "collapsed": false
   }
  },
  {
   "cell_type": "markdown",
   "source": [
    "\n",
    "---\n",
    "RAI Collateralisation\n",
    "---\n",
    "\n",
    "The following graph gives an idea on the collateral to debt ratio of RAI, or the solvency of the entire system.\n",
    "\n",
    "![](plots/collateral_vs_debt.png)\n",
    "\n",
    "Visualised simpler, global collateral ratio compared to liquidation ratio, where the ratio represents the system's total assets in collateral versus total debt. For ease of understanding: the blue line (system state) should be above the red line (mass liquidation events).\n",
    "\n",
    "![](plots/collateral_ratio_vs_liquidation_ratio.png)\n",
    "\n",
    "Looks like RAI's system is solvent with a good buffer between collateral to liquidation ratios. RAI has proved to be a resilient asset in volatile market regimes."
   ],
   "metadata": {
    "collapsed": false
   }
  },
  {
   "cell_type": "markdown",
   "source": [
    "---\n",
    "\n",
    "Reflexer Labs and RAI governance\n",
    "---\n",
    "Answers:\n",
    "\n",
    "– How long has platform been live? (Is it time tested?)\n",
    "– Other benchmarks (revenue/TVL)\n",
    "- Level of decentralisation\n",
    "- Multisigs: what can it do?\n",
    "- Who's in the multisig?\n",
    "- Are there any safeguards in place?\n",
    "- Audit reports.\n",
    "\n",
    "**Platform History**\n",
    "RAI implementation on-chain began in block 11848304: Feb-13-2021 12:33:18 PM +UTC (so, more than 300 days at the time of writing this report).\n",
    "\n",
    "**Revenue/TVL**\n",
    "The platform does not have any revenue. The model of revenue is similar to Maker: the stability fee generates revenue: fees are expected to be switched on at a later stage. The current TVL is 51,076.03 ETH (derived from [Reflexer Protocol Analytics](https://stats.reflexer.finance/)), or \\$210 million USD. The contract capturing this TVL is [0x2D3cD7b81c93f188F3CB8aD87c8Acc73d6226e3A](https://etherscan.io/address/0x2D3cD7b81c93f188F3CB8aD87c8Acc73d6226e3A):"
   ],
   "metadata": {
    "collapsed": false
   }
  },
  {
   "cell_type": "code",
   "execution_count": 2,
   "outputs": [
    {
     "data": {
      "text/plain": "51519.53272633577"
     },
     "execution_count": 2,
     "metadata": {},
     "output_type": "execute_result"
    }
   ],
   "source": [
    "weth_contract = init_contract(\"0xC02aaA39b223FE8D0A0e5C4F27eAD9083C756Cc2\")\n",
    "weth_contract.balanceOf(\"0x2D3cD7b81c93f188F3CB8aD87c8Acc73d6226e3A\") * 1e-18  # weth balance of the geb eth contract"
   ],
   "metadata": {
    "collapsed": false,
    "pycharm": {
     "name": "#%%\n"
    }
   }
  },
  {
   "cell_type": "markdown",
   "source": [
    "The [RAI Dune Analytics Query](https://dune.xyz/queries/62716/125083) provides information on undistributed stability fee revenue ([Stability Fee Treasury contract](https://etherscan.io/address/0x83533fdd3285f48204215e9cf38c785371258e76)) and liquidation revenues ([Accounting Engine Contract](https://etherscan.io/address/0xcee6aa1ab47d0fb0f24f51a3072ec16e20f90fce)). A snapshot from their dune analytics dashboard (the treasury is denominated in RAI) totalling to 953k RAI or 2.87 million USD.\n",
    "\n",
    "![](plots/dune_analytics_rai_protocol_treasury.png)"
   ],
   "metadata": {
    "collapsed": false
   }
  },
  {
   "cell_type": "markdown",
   "source": [
    "**Multisig**\n",
    "\n",
    "There is a **3/5 multisig** involved, which has **2 people outside the team** and a **24 hours Governance Delay**. The multisig address is [0x427A277eA53e25143B3b509C684aA4D0EB8bA01b](https://etherscan.io/address/0x427A277eA53e25143B3b509C684aA4D0EB8bA01b). The goal of the platform is to [minimise governance](https://docs.reflexer.finance/ungovernance/governance-minimization-guide): the deadline for removing the vast majority of RAI governance is mid August, 2022. The requirements for Governance minimisation are:\n",
    "1. Protocol must not add or plan to add more collateral types.\n",
    "2. All infrastructure must be audited and tested in prod.\n",
    "3. System must accrue enough surplus in main treasury so it can afford to pay for running infrastructure.\n",
    "\n",
    "There are lots of discussions on-going in the Reflexer Governance forums. One such discussion is the [discussion of keeping protocol and treasury governance separated, to ensure malicious governance is deterred](https://community.reflexer.finance/t/community-voting-post-rai-ungovernance/97).\n",
    "\n",
    "Currently the multisig has the capability to upgrade and manually set almost all components in the GEB (Generalised Ethereum Bond) framework. The process of governance minimisation aims to reduce this drastically.\n"
   ],
   "metadata": {
    "collapsed": false
   }
  },
  {
   "cell_type": "markdown",
   "source": [
    "\n",
    "**Audit Reports**\n",
    "\n",
    "All audits can be found in: <https://github.com/reflexer-labs/geb-audits>. The following list the one's known. If there are audit reports originating from Reflexer's github, those were not found in the auditor's githubs.\n",
    "\n",
    "There are a few sets of audits done by\n",
    "1. OpenZepplin: <https://blog.openzeppelin.com/geb-protocol-audit/>\n",
    "2. Quantstamp:\n",
    "    - <https://certificate.quantstamp.com/full/reflexer-staking-and-auction-house>\n",
    "    - <https://github.com/reflexer-labs/geb-audits/blob/master/quantstamp/helper-contracts/second-audit/Reflexer%20Second%20Engagement%20-%20Final%20Report.pdf>\n",
    "    - <https://certificate.quantstamp.com/full/reflexer-rai-curve-pool>\n",
    "3. Solidified:\n",
    "    - <https://github.com/solidified-platform/audits/blob/master/Audit%20Report%20-%20Uniswap%20V3%20Liquidity%20Manager%20%5B24.06.2021%5D.pdf>\n",
    "    - <https://github.com/reflexer-labs/geb-audits/blob/master/solidified/helper-contracts/Solidified%20Audit%20Report%20-%20Reflexer%20%5B26.01.2021%5D.pdf>"
   ],
   "metadata": {
    "collapsed": false
   }
  },
  {
   "cell_type": "markdown",
   "source": [
    "---\n",
    "\n",
    "Curve pool stats:\n",
    "---\n",
    "Answers:\n",
    "- Curve pool history\n",
    "– How long have they had a pool up?\n",
    "– Historical TVL/Volume\n",
    "\n",
    "The RAI-3CRV pool's genesis was in [block 13634171](https://etherscan.io/tx/0xd8ed515d92bd83652a44c421488655993201513efa50dc3601fbdcba5a3afbe2). It is a custom [StableswapRAI.vy](https://github.com/reflexer-labs/curve-contract/blob/d52df33144d9d90aed099146cf354b5b40225653/contracts/pools/rai/StableSwapRAI.vy) implementation by the Reflexer Labs team, in collaboration with curve-core devs.\n",
    "\n",
    "The StableSwapRAI implementation has also been [audited by Quantstamp](https://certificate.quantstamp.com/full/reflexer-rai-curve-pool). It's a ver interesting audit report because it begins with QuantStamp suggesting that the code they audited is written in Solidity, but the code is actually written in Vyper.\n",
    "\n",
    "Summary of audits: There are two points to consider.\n",
    "1. QuantStamp discovered that the compiler version used for the contract was not the latest (at that time: 0.3.0) and recommended an upgrade: to which, Reflexer Labs acknowledged the risk and did not upgrade the compiler version. The reasoning was: curve already uses the older vyper version to secure billions of TVL (most of curve's TVL is probably secured by the older version), and hence there was no need to change something which had already proven itself in production.\n",
    "2. The redemption price used by StableSwapRAI.vy contract uses an older version of the RAI Redemption Price. The more accurate method would be to first update the price using the [updateAndGetSnappedPrice() method from RedemptionPriceSnap.sol](https://github.com/reflexer-labs/geb-redemption-price-snap/blob/abbea26ee0c3957a99dc93e0cd3c0ea4755bf069/src/RedemptionPriceSnap.sol#L104) or use the [Chainlink Oracle for the Redemption Price](https://github.com/reflexer-labs/geb/blob/ef7c7f20d047dd0fe8b7dc4cb24f4d5f1c7a04dd/src/single/OracleRelayer.sol#L265) before the price is called by any of the methods in the contract. Reflexer Labs core team decided to acknowledge and not act upon this suggestion as the redemption price does not fluctuate that much (data from contract: [RedemptionPriceSnap](https://etherscan.io/address/0x07210B8871073228626AB79c296d9b22238f63cE))\n",
    "\n",
    "![](plots/redemption_price_snap.png)\n",
    "\n",
    "The other limitation of using an update-and-then-use the redemption price method is the gas costs involved. The team expects that LPs and traders with high value transactions may want to consider calling [updateAndGetSnappedPrice](https://github.com/reflexer-labs/geb-redemption-price-snap/blob/abbea26ee0c3957a99dc93e0cd3c0ea4755bf069/src/RedemptionPriceSnap.sol#L104) to update the RedemptionPrice snapshot contract to the latest value before large liquidity events.\n",
    "\n",
    "This is an interesting pre-condition to LP-ing or considering large swaps between RAI and 3CRV (socialised RedemptionPriceSnap updates!). The price update is not a gas intensive transaction done once in a while: [Example Transaction](https://etherscan.io/tx/0x61ceb1071187b3cf0f29b4e380006e85df7ea56e8a8df17ddc808d033c8f6b47).\n",
    "\n",
    "The TVL in the curve pool is nothing special, just a few depositors thus far, and not enough volume:\n",
    "\n",
    "![](plots/curve_pool_tvl.png)"
   ],
   "metadata": {
    "collapsed": false
   }
  },
  {
   "cell_type": "markdown",
   "source": [
    "---\n",
    "Final Takeaways\n",
    "---\n",
    "\n",
    "1. RAI is a over-collateralised asset (ETH), having stood the test of time (200+ days old project, which in defi years can be eons) through various market crashes (including a 50% drop in ETH prices in 2021). RAI hovers around 3 dollars in its value.\n",
    "2. Reflexer Labs has a multisig that controls virtually everything in their GEB system: in mid August 2022, this will go down drastically.\n",
    "3. The curve pool implementation was a collaboration between curve-core devs and Reflexer Labs devs, and has been audited by QuantStamp with two issues, one high risk and one medium: these issues in retrospect seem to not be too much of a hassle. The contracts are based on foundational contracts that have stood the test of time. Traders and LPs using the contract for very large transactions (add, remove, swap liquidity) may want to update redemption price before using the pool.\n",
    "4. RAI is a very interesting project, and deserves a gauge.\n",
    "\n",
    "**NOTE TO AGGREGATORS AND INTEGRATORS**\n",
    "Consider looking into the delta between redemption price snapshot and the system redemption price before adding, removing or swapping liquidity. This may help get your users the right prices for large liquidity events."
   ],
   "metadata": {
    "collapsed": false,
    "pycharm": {
     "name": "#%% md\n"
    }
   }
  }
 ],
 "metadata": {
  "kernelspec": {
   "display_name": "Python 3",
   "language": "python",
   "name": "python3"
  },
  "language_info": {
   "codemirror_mode": {
    "name": "ipython",
    "version": 2
   },
   "file_extension": ".py",
   "mimetype": "text/x-python",
   "name": "python",
   "nbconvert_exporter": "python",
   "pygments_lexer": "ipython2",
   "version": "2.7.6"
  }
 },
 "nbformat": 4,
 "nbformat_minor": 0
}