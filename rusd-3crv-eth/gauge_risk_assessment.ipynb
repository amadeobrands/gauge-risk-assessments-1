{
 "cells": [
  {
   "cell_type": "code",
   "execution_count": 1,
   "outputs": [],
   "source": [
    "import sys\n",
    "sys.path.append(\"../\")\n",
    "from utils.network_utils import connect_eth_alchemy\n",
    "connect_eth_alchemy()\n",
    "from utils.contract_utils import init_contract"
   ],
   "metadata": {
    "collapsed": false,
    "pycharm": {
     "name": "#%%\n"
    }
   }
  },
  {
   "cell_type": "markdown",
   "source": [
    "---\n",
    "Useful links\n",
    "---\n",
    "\n",
    "1. [RAMP-Defi Homepage](rampdefi.com)\n",
    "2. [RAMP-DEFI Docs](https://docs.rampdefi.com/ramp-defi/)\n",
    "3. [RAMP-DEFI Github](https://docs.rampdefi.com/ramp-defi/)\n",
    "4. [Audit Reports](https://github.com/RAMP-DEFI/RAMP-Public-Audits)\n",
    "5. [rUSD-BUSD PancakeSwap v2 pool (Binance Smart Chain) pair explorer](https://www.dextools.io/app/bsc/pair-explorer/0x59fac9e98479fc9979ae2a0c7422af50bcbb9b26)\n",
    "6. [rUSD-USDC Quickswap pool (Polygon) pair explorer](https://www.dextools.io/app/polygon/pair-explorer/0x5ef8747d1dc4839e92283794a10d448357973ac0)"
   ],
   "metadata": {
    "collapsed": false
   }
  },
  {
   "cell_type": "code",
   "execution_count": null,
   "metadata": {
    "collapsed": true
   },
   "outputs": [],
   "source": []
  }
 ],
 "metadata": {
  "kernelspec": {
   "display_name": "Python 3",
   "language": "python",
   "name": "python3"
  },
  "language_info": {
   "codemirror_mode": {
    "name": "ipython",
    "version": 2
   },
   "file_extension": ".py",
   "mimetype": "text/x-python",
   "name": "python",
   "nbconvert_exporter": "python",
   "pygments_lexer": "ipython2",
   "version": "2.7.6"
  }
 },
 "nbformat": 4,
 "nbformat_minor": 0
}